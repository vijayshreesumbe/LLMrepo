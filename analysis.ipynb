{
 "cells": [
  {
   "cell_type": "markdown",
   "id": "af40bab2",
   "metadata": {},
   "source": [
    "# Employee Sentiment & Engagement Analysis\n",
    "\n",
    "This notebook performs the full workflow: data loading, sentiment labeling (VADER), EDA, monthly scoring, ranking, flight-risk detection, and a simple linear regression model.\n",
    "\n",
    "If `test.csv` is not present, please place it in the repository root or run `runner.py`. If your file uses different column names, update the `COLUMN_MAP` mapping in the runner script or below."
   ]
  },
  {
   "cell_type": "code",
   "execution_count": null,
   "id": "f15b046f",
   "metadata": {},
   "outputs": [],
   "source": [
    "# This cell loads the dataset and auto-detects columns\n",
    "import pandas as pd\n",
    "from pathlib import Path\n",
    "ROOT = Path('.')\n",
    "CSV = ROOT / 'test.csv'\n",
    "if not CSV.exists():\n",
    "    print('test.csv not found in the current folder. Place it here and rerun.')\n",
    "else:\n",
    "    df = pd.read_csv(CSV)\n",
    "    print('Loaded', len(df), 'rows')\n",
    "    display(df.head())"
   ]
  },
  {
   "cell_type": "markdown",
   "id": "d166987d",
   "metadata": {},
   "source": [
    "## Sentiment Labeling (VADER)\n",
    "We use NLTK's VADER lexicon to label messages as Positive/Neutral/Negative with thresholds: compound >= 0.05 => Positive, <= -0.05 => Negative, otherwise Neutral. This is fast and reproducible without API calls."
   ]
  },
  {
   "cell_type": "code",
   "execution_count": null,
   "id": "8c81b7b2",
   "metadata": {},
   "outputs": [],
   "source": [
    "import nltk\n",
    "nltk.download('vader_lexicon')\n",
    "from nltk.sentiment.vader import SentimentIntensityAnalyzer\n",
    "sid = SentimentIntensityAnalyzer()\n",
    "# replace these names if your CSV uses different columns\n",
    "EMP_COL = 'employee'  # adjust if needed\n",
    "MSG_COL = 'message'   # adjust if needed\n",
    "DATE_COL = 'date'     # adjust if needed\n",
    "\n",
    "def label_vader(text):\n",
    "    s = sid.polarity_scores(str(text))\n",
    "    c = s['compound']\n",
    "    if c >= 0.05:\n",
    "        return 'Positive'\n",
    "    elif c <= -0.05:\n",
    "        return 'Negative'\n",
    "    else:\n",
    "        return 'Neutral'\n",
    "\n",
    "df['sentiment'] = df[MSG_COL].apply(label_vader)\n",
    "display(df[['sentiment']].value_counts())"
   ]
  },
  {
   "cell_type": "markdown",
   "id": "6937b816",
   "metadata": {},
   "source": [
    "## EDA: sentiment distribution, time trends, and message lengths\n",
    "Visualizations will be saved to `visualizations/` when run via `runner.py`."
   ]
  }
 ],
 "metadata": {
  "language_info": {
   "name": "python"
  }
 },
 "nbformat": 4,
 "nbformat_minor": 5
}
